{
 "cells": [
  {
   "cell_type": "markdown",
   "id": "bcd60781-0b0c-4bec-a309-6aa518ad0599",
   "metadata": {},
   "source": [
    "# Calculating Descriptive Statistics"
   ]
  },
  {
   "cell_type": "code",
   "execution_count": 17,
   "id": "577bbbcd-a58e-49fc-9ac0-d6b4b9aa65c9",
   "metadata": {},
   "outputs": [],
   "source": [
    "import math\n",
    "import statistics\n",
    "import numpy as np\n",
    "import scipy.stats\n",
    "import pandas as pd"
   ]
  },
  {
   "cell_type": "code",
   "execution_count": 18,
   "id": "7e7cf749-c9ce-41d4-8fa3-b22140944fd3",
   "metadata": {},
   "outputs": [
    {
     "name": "stdout",
     "output_type": "stream",
     "text": [
      "[8.0, 1, 2.5, 4, 28.0]\n",
      "[8.0, 1, 2.5, nan, 4, 28.0]\n"
     ]
    }
   ],
   "source": [
    "# Membuat lits\n",
    "x = [8.0, 1, 2.5, 4, 28.0]\n",
    "x_with_nan = [8.0, 1, 2.5, math.nan, 4, 28.0]\n",
    "print(x)\n",
    "print(x_with_nan)"
   ]
  },
  {
   "cell_type": "code",
   "execution_count": 19,
   "id": "16d55fc8-13f4-4766-95cd-083eb80ff2d8",
   "metadata": {},
   "outputs": [
    {
     "name": "stdout",
     "output_type": "stream",
     "text": [
      "[ 8.   1.   2.5  nan  4.  28. ]\n",
      "0     8.0\n",
      "1     1.0\n",
      "2     2.5\n",
      "3     NaN\n",
      "4     4.0\n",
      "5    28.0\n",
      "dtype: float64\n"
     ]
    }
   ],
   "source": [
    "# Membuat objek\n",
    "y, y_with_nan = np.array(x), np.array(x_with_nan)\n",
    "z, z_with_nan = pd.Series(x), pd.Series(x_with_nan)\n",
    "print(y_with_nan)\n",
    "print(z_with_nan)"
   ]
  },
  {
   "cell_type": "markdown",
   "id": "a20fd2a5-7b6b-4971-a2f1-2a499eda718c",
   "metadata": {},
   "source": [
    " ini merupakan sequence nilai 1D"
   ]
  },
  {
   "cell_type": "markdown",
   "id": "d92b5b1f-0a30-4fe0-baff-0f3f644faa6a",
   "metadata": {},
   "source": [
    "# Measures of Central Tendency"
   ]
  },
  {
   "cell_type": "markdown",
   "id": "7dbec2a8-6f7b-4ed0-8b81-eec8f3968890",
   "metadata": {},
   "source": [
    "## Mean"
   ]
  },
  {
   "cell_type": "code",
   "execution_count": 20,
   "id": "6620befe-6866-4c28-a5d8-13015ecb04ca",
   "metadata": {},
   "outputs": [
    {
     "data": {
      "text/plain": [
       "8.7"
      ]
     },
     "execution_count": 20,
     "metadata": {},
     "output_type": "execute_result"
    }
   ],
   "source": [
    "mean_ = sum(x) / len(x)\n",
    "mean_"
   ]
  },
  {
   "cell_type": "code",
   "execution_count": 21,
   "id": "b3433f4a-8267-43b0-9dc1-a2f3d1ed8c17",
   "metadata": {},
   "outputs": [
    {
     "name": "stdout",
     "output_type": "stream",
     "text": [
      "8.7\n"
     ]
    }
   ],
   "source": [
    "# menerapkan fungsi built-in python\n",
    "\n",
    "mean_ = statistics.mean(x)\n",
    "print(mean_)"
   ]
  },
  {
   "cell_type": "code",
   "execution_count": 22,
   "id": "a57ca4b2-ad52-4f35-bfe6-4b2c651b4cee",
   "metadata": {},
   "outputs": [
    {
     "data": {
      "text/plain": [
       "8.7"
      ]
     },
     "execution_count": 22,
     "metadata": {},
     "output_type": "execute_result"
    }
   ],
   "source": [
    "# menggunakan numpy\n",
    "\n",
    "mean_ = np.mean(y)\n",
    "mean_"
   ]
  },
  {
   "cell_type": "code",
   "execution_count": 23,
   "id": "3d32e74a-6d8a-4d83-9a52-3be6d471362b",
   "metadata": {},
   "outputs": [
    {
     "data": {
      "text/plain": [
       "8.7"
      ]
     },
     "execution_count": 23,
     "metadata": {},
     "output_type": "execute_result"
    }
   ],
   "source": [
    "mean_ = y.mean()\n",
    "mean_"
   ]
  },
  {
   "cell_type": "code",
   "execution_count": 24,
   "id": "781594ba-9ab6-4366-b3b4-95f523671f06",
   "metadata": {},
   "outputs": [
    {
     "name": "stdout",
     "output_type": "stream",
     "text": [
      "nan\n",
      "nan\n"
     ]
    }
   ],
   "source": [
    "print(np.mean(y_with_nan))\n",
    "print(y_with_nan.mean())"
   ]
  },
  {
   "cell_type": "code",
   "execution_count": 25,
   "id": "36802d99-2844-408e-a410-f8f686d693d7",
   "metadata": {},
   "outputs": [
    {
     "data": {
      "text/plain": [
       "8.7"
      ]
     },
     "execution_count": 25,
     "metadata": {},
     "output_type": "execute_result"
    }
   ],
   "source": [
    "np.nanmean(y_with_nan)"
   ]
  },
  {
   "cell_type": "code",
   "execution_count": 26,
   "id": "6d362411-a63b-45d0-85b3-5b99fe07bb7d",
   "metadata": {},
   "outputs": [
    {
     "data": {
      "text/plain": [
       "8.7"
      ]
     },
     "execution_count": 26,
     "metadata": {},
     "output_type": "execute_result"
    }
   ],
   "source": [
    "# menggunakan pd.series\n",
    "\n",
    "mean_ = z.mean()\n",
    "mean_"
   ]
  },
  {
   "cell_type": "code",
   "execution_count": 27,
   "id": "ad679a44-9d48-47de-a15d-25b3ecf0a4d7",
   "metadata": {},
   "outputs": [
    {
     "data": {
      "text/plain": [
       "8.7"
      ]
     },
     "execution_count": 27,
     "metadata": {},
     "output_type": "execute_result"
    }
   ],
   "source": [
    "z_with_nan.mean()\n"
   ]
  },
  {
   "cell_type": "markdown",
   "id": "0bc9a07e-18b2-441b-b39c-0e9c6c11b6a1",
   "metadata": {},
   "source": [
    "## Weighted Mean"
   ]
  },
  {
   "cell_type": "code",
   "execution_count": 19,
   "id": "bb8ef3e9-4193-4b9a-9e21-932a4ece31e7",
   "metadata": {},
   "outputs": [
    {
     "data": {
      "text/plain": [
       "4.8"
      ]
     },
     "execution_count": 19,
     "metadata": {},
     "output_type": "execute_result"
    }
   ],
   "source": [
    "0.2 * 2 + 0.5 * 4 + 0.3 * 8"
   ]
  },
  {
   "cell_type": "code",
   "execution_count": 20,
   "id": "4c6f228f-731e-4362-b1e5-aece23016c2f",
   "metadata": {},
   "outputs": [
    {
     "name": "stdout",
     "output_type": "stream",
     "text": [
      "6.95\n",
      "6.95\n"
     ]
    }
   ],
   "source": [
    "x = [8.0, 1, 2.5, 4, 28.0]\n",
    "w = [0.1, 0.2, 0.3, 0.25, 0.15]\n",
    "\n",
    "wmean = sum(w[i] * x[i] for i in range(len(x))) / sum(w)\n",
    "print(wmean)\n",
    "\n",
    "wmean = sum(x_ * w_ for (x_, w_) in zip(x, w)) / sum(w)\n",
    "print(wmean)"
   ]
  },
  {
   "cell_type": "code",
   "execution_count": 23,
   "id": "245294b9-2253-4d09-9e43-9804fe828e48",
   "metadata": {},
   "outputs": [
    {
     "name": "stdout",
     "output_type": "stream",
     "text": [
      "6.95\n",
      "6.95\n"
     ]
    }
   ],
   "source": [
    "# menggunakan np.average\n",
    "\n",
    "y, z, w = np.array(x), pd.Series(x), np.array(w)\n",
    "\n",
    "wmean = np.average(y, weights=w)\n",
    "print(wmean)\n",
    "\n",
    "wmean = np.average(z, weights=w)\n",
    "print(wmean)"
   ]
  },
  {
   "cell_type": "markdown",
   "id": "00de569e-4376-4218-981c-ac4066b1d980",
   "metadata": {},
   "source": [
    "Kode tersebut digunakan untuk menghitung weighted mean (rata-rata tertimbang) dari sebuah array/list x dengan bobot yang ditentukan dalam array/list w menggunakan fungsi np.average dari library NumPy.\n",
    "\n",
    "Pertama, array x diubah menjadi numpy array y menggunakan np.array(). Kemudian, x juga diubah menjadi pandas series z menggunakan pd.Series().\n",
    "\n",
    "Kemudian, nilai weighted mean dihitung menggunakan np.average(). Dua parameter utama dari fungsi ini adalah array/list x dan bobot w. Dalam hal ini, bobot yang diberikan adalah w. Hasil perhitungan weighted mean disimpan dalam variabel wmean.\n",
    "\n",
    "Pada baris selanjutnya, hasil perhitungan weighted mean yang menggunakan numpy array y disimpan dalam variabel wmean dan kemudian dicetak. Pada baris berikutnya, hasil perhitungan weighted mean yang menggunakan pandas series z disimpan dalam variabel wmean dan kemudian dicetak.\n",
    "\n",
    "Dalam penghitungan weighted mean ini, setiap angka dalam array x atau pandas series z dikalikan dengan bobotnya masing-masing dari array/list w, kemudian hasil perkalian tersebut dijumlahkan dan dibagi dengan total bobot untuk menghasilkan weighted mean."
   ]
  },
  {
   "cell_type": "code",
   "execution_count": 24,
   "id": "b5ed94e3-9a69-431b-bdfe-e014d2802f97",
   "metadata": {},
   "outputs": [
    {
     "data": {
      "text/plain": [
       "6.95"
      ]
     },
     "execution_count": 24,
     "metadata": {},
     "output_type": "execute_result"
    }
   ],
   "source": [
    "# impelemtasi python pure\n",
    "\n",
    "(w * y).sum() / w.sum()"
   ]
  },
  {
   "cell_type": "markdown",
   "id": "dd221ea7-841a-490b-8389-8009aab5e16b",
   "metadata": {},
   "source": [
    "## Harmonic Mean"
   ]
  },
  {
   "cell_type": "code",
   "execution_count": 9,
   "id": "07645523-7a3e-49de-b3d6-c74d0c708516",
   "metadata": {},
   "outputs": [
    {
     "data": {
      "text/plain": [
       "2.7613412228796843"
      ]
     },
     "execution_count": 9,
     "metadata": {},
     "output_type": "execute_result"
    }
   ],
   "source": [
    "hmean = len(x) / sum(1/item for item in x)\n",
    "hmean"
   ]
  },
  {
   "cell_type": "code",
   "execution_count": 12,
   "id": "2c8d9487-5c51-4a10-b606-eead1f34a35b",
   "metadata": {},
   "outputs": [
    {
     "data": {
      "text/plain": [
       "2.7613412228796843"
      ]
     },
     "execution_count": 12,
     "metadata": {},
     "output_type": "execute_result"
    }
   ],
   "source": [
    "# Menggunakan statistik harmonic\n",
    "hmean = statistics.harmonic_mean(x)\n",
    "hmean"
   ]
  },
  {
   "cell_type": "code",
   "execution_count": 13,
   "id": "a2048d4f-4ded-42b7-b4bd-8e861d3bbfa9",
   "metadata": {},
   "outputs": [
    {
     "data": {
      "text/plain": [
       "2.7613412228796843"
      ]
     },
     "execution_count": 13,
     "metadata": {},
     "output_type": "execute_result"
    }
   ],
   "source": [
    "scipy.stats.hmean(y)"
   ]
  },
  {
   "cell_type": "code",
   "execution_count": 28,
   "id": "d6853e7e-d990-44e5-9ca3-a802537151e7",
   "metadata": {},
   "outputs": [
    {
     "data": {
      "text/plain": [
       "2.7613412228796843"
      ]
     },
     "execution_count": 28,
     "metadata": {},
     "output_type": "execute_result"
    }
   ],
   "source": [
    "scipy.stats.hmean(z)"
   ]
  },
  {
   "cell_type": "code",
   "execution_count": 29,
   "id": "1660103a-de2d-46c7-b9f4-0f067f07ac5a",
   "metadata": {},
   "outputs": [
    {
     "data": {
      "text/plain": [
       "30.0"
      ]
     },
     "execution_count": 29,
     "metadata": {},
     "output_type": "execute_result"
    }
   ],
   "source": [
    "speed = [60,20]\n",
    "hmean_speed = len(speed)/sum(1/item for item in speed)\n",
    "hmean_speed"
   ]
  },
  {
   "cell_type": "code",
   "execution_count": 30,
   "id": "2fac2d39-4544-4dba-ad44-232c639eb946",
   "metadata": {},
   "outputs": [
    {
     "data": {
      "text/plain": [
       "30.0"
      ]
     },
     "execution_count": 30,
     "metadata": {},
     "output_type": "execute_result"
    }
   ],
   "source": [
    "# hmean dengan library 1\n",
    "hmean_speed_stats = statistics.harmonic_mean(speed)\n",
    "hmean_speed_stats"
   ]
  },
  {
   "cell_type": "code",
   "execution_count": 31,
   "id": "afa5e5af-cfbe-46c7-b5ad-922fb00af49d",
   "metadata": {},
   "outputs": [
    {
     "data": {
      "text/plain": [
       "30.0"
      ]
     },
     "execution_count": 31,
     "metadata": {},
     "output_type": "execute_result"
    }
   ],
   "source": [
    "# hmean dengan library 1\n",
    "hmean_speed_stats2 = scipy.stats.hmean(speed)\n",
    "hmean_speed_stats2"
   ]
  },
  {
   "cell_type": "code",
   "execution_count": 32,
   "id": "6eeaa9a7-eacf-45f4-a2eb-79ae23e14dd3",
   "metadata": {},
   "outputs": [
    {
     "data": {
      "text/plain": [
       "[8.0, 1, 2.5, 4, 28.0]"
      ]
     },
     "execution_count": 32,
     "metadata": {},
     "output_type": "execute_result"
    }
   ],
   "source": [
    "x"
   ]
  },
  {
   "cell_type": "code",
   "execution_count": 33,
   "id": "cbee6dec-e24a-43db-8f2f-c829a1edf1a5",
   "metadata": {},
   "outputs": [
    {
     "data": {
      "text/plain": [
       "2.7613412228796843"
      ]
     },
     "execution_count": 33,
     "metadata": {},
     "output_type": "execute_result"
    }
   ],
   "source": [
    "hmean = len(x) / sum(1/item for item in x)\n",
    "hmean"
   ]
  },
  {
   "cell_type": "code",
   "execution_count": 34,
   "id": "425c15fc-2482-4871-ba0a-47a2915cfce2",
   "metadata": {},
   "outputs": [
    {
     "data": {
      "text/plain": [
       "8.7"
      ]
     },
     "execution_count": 34,
     "metadata": {},
     "output_type": "execute_result"
    }
   ],
   "source": [
    "arit_mean = np.mean(x)\n",
    "arit_mean"
   ]
  },
  {
   "cell_type": "markdown",
   "id": "1d09fadb-9f60-49a9-8d5e-04e414f8882e",
   "metadata": {},
   "source": [
    "# Quiz"
   ]
  },
  {
   "cell_type": "code",
   "execution_count": 15,
   "id": "48a2fe19-a369-4c61-80d8-b3c406146522",
   "metadata": {},
   "outputs": [
    {
     "name": "stdout",
     "output_type": "stream",
     "text": [
      "Standar Deviasi dari x adalah: 18.58090417606205\n",
      "Variansi dari x adalah: 345.25000000000006\n"
     ]
    }
   ],
   "source": [
    "x = [1,2,3,6,7,8,30,40,50]\n",
    "std_dev = statistics.stdev(x)\n",
    "print(\"Standar Deviasi dari x adalah:\", std_dev)\n",
    "\n",
    "variance = statistics.variance(x)\n",
    "print(\"Variansi dari x adalah:\", variance)"
   ]
  },
  {
   "cell_type": "code",
   "execution_count": 16,
   "id": "d7f58a3e-265b-4bd2-bd0e-d4bdb7d85964",
   "metadata": {},
   "outputs": [
    {
     "name": "stdout",
     "output_type": "stream",
     "text": [
      "345.25000000000006\n",
      "18.58090417606205\n"
     ]
    }
   ],
   "source": [
    "#Kuis 1 tim 4\n",
    "x = [1,2,3,6,7,8,30,40,50]\n",
    "n = len(x)\n",
    "mean = sum(x)/n\n",
    "var_ = sum((item - mean)**2 for item in x)/(n-1)\n",
    "Sd_ = var_**(1/2)\n",
    "\n",
    "print(var_)\n",
    "print(Sd_)"
   ]
  },
  {
   "cell_type": "markdown",
   "id": "cfb52e38-a2a4-484f-893e-4f22af163d3b",
   "metadata": {},
   "source": [
    "# Geometric Mean"
   ]
  },
  {
   "cell_type": "code",
   "execution_count": 35,
   "id": "74eb6426-42fa-4c27-9305-ae28ce3c622d",
   "metadata": {},
   "outputs": [
    {
     "data": {
      "text/plain": [
       "2730.0"
      ]
     },
     "execution_count": 35,
     "metadata": {},
     "output_type": "execute_result"
    }
   ],
   "source": [
    "x = 1000\n",
    "x*=1.3 #1300\n",
    "x*=1.5 #1950\n",
    "x*=1.4 #2730\n",
    "x"
   ]
  },
  {
   "cell_type": "code",
   "execution_count": 36,
   "id": "ce716212-f302-4cdd-bb7d-63e7b17e2239",
   "metadata": {},
   "outputs": [
    {
     "data": {
      "text/plain": [
       "40.0"
      ]
     },
     "execution_count": 36,
     "metadata": {},
     "output_type": "execute_result"
    }
   ],
   "source": [
    "# Arithmetic Mean\n",
    "(30+50+40)/3"
   ]
  },
  {
   "cell_type": "code",
   "execution_count": 37,
   "id": "cc7a01c2-7cda-4ba2-bc86-2220cacc2c14",
   "metadata": {},
   "outputs": [
    {
     "data": {
      "text/plain": [
       "2743.9999999999995"
      ]
     },
     "execution_count": 37,
     "metadata": {},
     "output_type": "execute_result"
    }
   ],
   "source": [
    "x = 1000\n",
    "x*=1.4\n",
    "x*=1.4\n",
    "x*=1.4\n",
    "x"
   ]
  },
  {
   "cell_type": "code",
   "execution_count": 38,
   "id": "8b48d7b0-2bb0-42ec-963b-46a0314c7afc",
   "metadata": {},
   "outputs": [
    {
     "data": {
      "text/plain": [
       "39.148676411688626"
      ]
     },
     "execution_count": 38,
     "metadata": {},
     "output_type": "execute_result"
    }
   ],
   "source": [
    "#Geometric Mean\n",
    "gmean = ((30*50*40)**(1/3))\n",
    "gmean"
   ]
  },
  {
   "cell_type": "code",
   "execution_count": 39,
   "id": "dd9c694e-0e65-4cda-903b-4593e4afd669",
   "metadata": {},
   "outputs": [
    {
     "data": {
      "text/plain": [
       "2694.322835875"
      ]
     },
     "execution_count": 39,
     "metadata": {},
     "output_type": "execute_result"
    }
   ],
   "source": [
    "x = 1000\n",
    "x*=1.3915\n",
    "x*=1.3915\n",
    "x*=1.3915\n",
    "x"
   ]
  },
  {
   "cell_type": "code",
   "execution_count": 40,
   "id": "dc7528dd-0028-4eac-b712-f0e64181e3a0",
   "metadata": {},
   "outputs": [
    {
     "data": {
      "text/plain": [
       "39.14867641168864"
      ]
     },
     "execution_count": 40,
     "metadata": {},
     "output_type": "execute_result"
    }
   ],
   "source": [
    "scipy.stats.gmean([30,50,40]) #geometric mean menggunakan library scipy"
   ]
  },
  {
   "cell_type": "markdown",
   "id": "5ab87a3f-3b9e-45d2-8c98-ed0c9831c49e",
   "metadata": {},
   "source": [
    "# Median"
   ]
  },
  {
   "cell_type": "code",
   "execution_count": 41,
   "id": "ee58557f-d9ee-46b9-999f-31a5d2a282bb",
   "metadata": {},
   "outputs": [
    {
     "data": {
      "text/plain": [
       "4"
      ]
     },
     "execution_count": 41,
     "metadata": {},
     "output_type": "execute_result"
    }
   ],
   "source": [
    "# Ganjil\n",
    "a = [1,2,4,8,9]\n",
    "n = len(a)\n",
    "median = a[2]\n",
    "median"
   ]
  },
  {
   "cell_type": "code",
   "execution_count": 42,
   "id": "ab8cb6d7-1733-45df-abee-489c68c08756",
   "metadata": {},
   "outputs": [
    {
     "data": {
      "text/plain": [
       "3.0"
      ]
     },
     "execution_count": 42,
     "metadata": {},
     "output_type": "execute_result"
    }
   ],
   "source": [
    "# Genap\n",
    "a = [1,2,4,8]\n",
    "n = len(a)\n",
    "(n+1)/2\n",
    "median = (2+4)/2\n",
    "median"
   ]
  },
  {
   "cell_type": "code",
   "execution_count": 43,
   "id": "8284ae99-f744-4a57-8493-55dd79055a26",
   "metadata": {},
   "outputs": [
    {
     "data": {
      "text/plain": [
       "3.5"
      ]
     },
     "execution_count": 43,
     "metadata": {},
     "output_type": "execute_result"
    }
   ],
   "source": [
    "# Menggunakan numpy\n",
    "x = [8, 1, 2.5, 4, 28]\n",
    "c = [2,3,4,5]\n",
    "np.median(c)"
   ]
  },
  {
   "cell_type": "code",
   "execution_count": 44,
   "id": "34d220c7-fc2a-41cd-b597-453bc12d669f",
   "metadata": {},
   "outputs": [],
   "source": [
    "# Pembuktian manual\n",
    "def median_function(x):\n",
    "    n = len(x)\n",
    "    if n%2 == 1: #Ganjil\n",
    "        median_ = sorted(x)[round(0.5*(n-1))] #ambil median\n",
    "    else: #Genap\n",
    "        x_ord, index = sorted(x) , round(0.5*n)\n",
    "        median_=0.5 * (x_ord[index-1]+x_ord[index])\n",
    "    return median_"
   ]
  },
  {
   "cell_type": "code",
   "execution_count": 45,
   "id": "76e9e581-5cc1-4e55-91b9-5496554bf220",
   "metadata": {},
   "outputs": [
    {
     "data": {
      "text/plain": [
       "4"
      ]
     },
     "execution_count": 45,
     "metadata": {},
     "output_type": "execute_result"
    }
   ],
   "source": [
    "median_function(x)"
   ]
  },
  {
   "cell_type": "code",
   "execution_count": 46,
   "id": "d65c50cb-ed1a-4eba-a383-cbf02d3cc29d",
   "metadata": {},
   "outputs": [
    {
     "data": {
      "text/plain": [
       "3.5"
      ]
     },
     "execution_count": 46,
     "metadata": {},
     "output_type": "execute_result"
    }
   ],
   "source": [
    "median_function(c)"
   ]
  },
  {
   "cell_type": "code",
   "execution_count": 47,
   "id": "f5393e42-996a-42bf-aad4-61df08a3457f",
   "metadata": {},
   "outputs": [
    {
     "data": {
      "text/plain": [
       "[1, 2.5, 4, 8, 28]"
      ]
     },
     "execution_count": 47,
     "metadata": {},
     "output_type": "execute_result"
    }
   ],
   "source": [
    "sorted(x)"
   ]
  },
  {
   "cell_type": "code",
   "execution_count": 48,
   "id": "37457686-a2b2-422e-a899-d5b1c8340157",
   "metadata": {},
   "outputs": [
    {
     "data": {
      "text/plain": [
       "3"
      ]
     },
     "execution_count": 48,
     "metadata": {},
     "output_type": "execute_result"
    }
   ],
   "source": [
    "n = len([1,2,3,4,5,6,7])\n",
    "round(0.5*(n-1))"
   ]
  },
  {
   "cell_type": "code",
   "execution_count": 49,
   "id": "a332a8d8-7ea1-4716-9684-bf38f453a267",
   "metadata": {},
   "outputs": [
    {
     "data": {
      "text/plain": [
       "7"
      ]
     },
     "execution_count": 49,
     "metadata": {},
     "output_type": "execute_result"
    }
   ],
   "source": [
    "n"
   ]
  },
  {
   "cell_type": "markdown",
   "id": "6c5115c3-2fc7-4d4a-b612-9393f0e15067",
   "metadata": {},
   "source": [
    "# Mode/Modus"
   ]
  },
  {
   "cell_type": "markdown",
   "id": "982e19bd-7d37-4d5f-866c-ae1c5e450e24",
   "metadata": {},
   "source": [
    "Nilai atau data yang sering muncul"
   ]
  },
  {
   "cell_type": "code",
   "execution_count": 51,
   "id": "7631271a-de18-4f2b-be07-be1517ddfc43",
   "metadata": {},
   "outputs": [],
   "source": [
    "u = [2,3,2,8,12]\n",
    "\n",
    "mode_ = max((u.count(i),i)for i in set(u))[1]"
   ]
  },
  {
   "cell_type": "code",
   "execution_count": 52,
   "id": "8cc4bf65-5cfb-41dc-9d0b-123575e95730",
   "metadata": {},
   "outputs": [
    {
     "data": {
      "text/plain": [
       "2"
      ]
     },
     "execution_count": 52,
     "metadata": {},
     "output_type": "execute_result"
    }
   ],
   "source": [
    "statistics.mode(u)"
   ]
  },
  {
   "cell_type": "code",
   "execution_count": 53,
   "id": "b790e97f-4500-4b6d-bc1b-6e71fbd20237",
   "metadata": {},
   "outputs": [
    {
     "name": "stderr",
     "output_type": "stream",
     "text": [
      "C:\\Users\\ASUS\\AppData\\Local\\Temp\\ipykernel_2844\\4097402543.py:1: FutureWarning: Unlike other reduction functions (e.g. `skew`, `kurtosis`), the default behavior of `mode` typically preserves the axis it acts along. In SciPy 1.11.0, this behavior will change: the default value of `keepdims` will become False, the `axis` over which the statistic is taken will be eliminated, and the value None will no longer be accepted. Set `keepdims` to True or False to avoid this warning.\n",
      "  scipy.stats.mode(u)[0][0]\n"
     ]
    },
    {
     "data": {
      "text/plain": [
       "2"
      ]
     },
     "execution_count": 53,
     "metadata": {},
     "output_type": "execute_result"
    }
   ],
   "source": [
    "scipy.stats.mode(u)[0][0]"
   ]
  },
  {
   "cell_type": "code",
   "execution_count": 54,
   "id": "8fbc884d-3424-4679-9367-5bffacf84b7b",
   "metadata": {},
   "outputs": [
    {
     "name": "stderr",
     "output_type": "stream",
     "text": [
      "C:\\Users\\ASUS\\AppData\\Local\\Temp\\ipykernel_2844\\1318742610.py:1: FutureWarning: Unlike other reduction functions (e.g. `skew`, `kurtosis`), the default behavior of `mode` typically preserves the axis it acts along. In SciPy 1.11.0, this behavior will change: the default value of `keepdims` will become False, the `axis` over which the statistic is taken will be eliminated, and the value None will no longer be accepted. Set `keepdims` to True or False to avoid this warning.\n",
      "  mode_lib = scipy.stats.mode(u)\n"
     ]
    }
   ],
   "source": [
    "mode_lib = scipy.stats.mode(u)"
   ]
  },
  {
   "cell_type": "code",
   "execution_count": 55,
   "id": "6ca2eec6-aa31-4829-82ec-2c5ce3a77437",
   "metadata": {},
   "outputs": [
    {
     "name": "stdout",
     "output_type": "stream",
     "text": [
      "ModeResult(mode=array([2]), count=array([2]))\n",
      "[2]\n",
      "[2]\n"
     ]
    }
   ],
   "source": [
    "print(mode_lib)\n",
    "print(mode_lib.mode)\n",
    "print(mode_lib.count)"
   ]
  },
  {
   "cell_type": "code",
   "execution_count": 56,
   "id": "0863135c-4b63-4e9f-81b2-41fa6eb5037e",
   "metadata": {},
   "outputs": [
    {
     "data": {
      "text/plain": [
       "[2, 3, 2, 8, 12]"
      ]
     },
     "execution_count": 56,
     "metadata": {},
     "output_type": "execute_result"
    }
   ],
   "source": [
    "u"
   ]
  },
  {
   "cell_type": "code",
   "execution_count": 57,
   "id": "ab5b9705-1b8c-4b15-9236-8d9a16b05b8a",
   "metadata": {},
   "outputs": [
    {
     "data": {
      "text/plain": [
       "0    2\n",
       "dtype: int64"
      ]
     },
     "execution_count": 57,
     "metadata": {},
     "output_type": "execute_result"
    }
   ],
   "source": [
    "u_series = pd.Series(u)\n",
    "u_series.mode()"
   ]
  },
  {
   "cell_type": "code",
   "execution_count": 58,
   "id": "ed04abff-6197-4e08-a882-c59e1cccc252",
   "metadata": {},
   "outputs": [
    {
     "data": {
      "text/plain": [
       "2"
      ]
     },
     "execution_count": 58,
     "metadata": {},
     "output_type": "execute_result"
    }
   ],
   "source": [
    "u_array = np.array(u)\n",
    "statistics.mode(u_array)"
   ]
  },
  {
   "cell_type": "code",
   "execution_count": 59,
   "id": "07c34708-d73c-4da9-ab95-972082272705",
   "metadata": {},
   "outputs": [
    {
     "data": {
      "text/plain": [
       "0    3.0\n",
       "dtype: float64"
      ]
     },
     "execution_count": 59,
     "metadata": {},
     "output_type": "execute_result"
    }
   ],
   "source": [
    "v = pd.Series([1,2,3,3,3,np.nan,np.nan,np.nan,np.nan])\n",
    "v.mode()"
   ]
  },
  {
   "cell_type": "code",
   "execution_count": 60,
   "id": "4a814edb-34b8-457e-b37c-63549678df98",
   "metadata": {},
   "outputs": [
    {
     "data": {
      "text/plain": [
       "3.0"
      ]
     },
     "execution_count": 60,
     "metadata": {},
     "output_type": "execute_result"
    }
   ],
   "source": [
    "statistics.mode(v)"
   ]
  },
  {
   "cell_type": "code",
   "execution_count": 61,
   "id": "621da61c-70b8-4835-939a-b7ae29b68b15",
   "metadata": {},
   "outputs": [
    {
     "data": {
      "text/plain": [
       "nan"
      ]
     },
     "execution_count": 61,
     "metadata": {},
     "output_type": "execute_result"
    }
   ],
   "source": [
    "h = [1,2,3,3,3,np.nan,np.nan,np.nan,np.nan]\n",
    "statistics.mode(h)"
   ]
  },
  {
   "cell_type": "markdown",
   "id": "a5081881-9057-429d-9648-248fd9fb0aec",
   "metadata": {},
   "source": [
    "Series akan mengabaikan NaN dan list akan mempertimbangkan NaN"
   ]
  },
  {
   "cell_type": "markdown",
   "id": "d7079392-0073-47b9-ab71-df0026599a29",
   "metadata": {},
   "source": [
    "# Measures of Variability"
   ]
  },
  {
   "cell_type": "markdown",
   "id": "96a322ad-ca2e-4c9e-a30e-093a61dc7119",
   "metadata": {},
   "source": [
    "# Variance"
   ]
  },
  {
   "cell_type": "code",
   "execution_count": 62,
   "id": "363a05af-9623-40fa-b890-a2f1fa72a0e4",
   "metadata": {},
   "outputs": [
    {
     "data": {
      "text/plain": [
       "[8, 1, 2.5, 4, 28]"
      ]
     },
     "execution_count": 62,
     "metadata": {},
     "output_type": "execute_result"
    }
   ],
   "source": [
    "x"
   ]
  },
  {
   "cell_type": "code",
   "execution_count": 63,
   "id": "763d600c-4342-4b4c-9ab7-20b53719848f",
   "metadata": {},
   "outputs": [
    {
     "data": {
      "text/plain": [
       "123.19999999999999"
      ]
     },
     "execution_count": 63,
     "metadata": {},
     "output_type": "execute_result"
    }
   ],
   "source": [
    "n  = len(x)\n",
    "mean_var = np.mean(x)\n",
    "var_ = sum((item-mean_var)**2 for item in x ) / (n-1)\n",
    "var_"
   ]
  },
  {
   "cell_type": "code",
   "execution_count": 64,
   "id": "a84a4235-fab6-4710-ad70-ff2c6e728330",
   "metadata": {},
   "outputs": [
    {
     "data": {
      "text/plain": [
       "123.2"
      ]
     },
     "execution_count": 64,
     "metadata": {},
     "output_type": "execute_result"
    }
   ],
   "source": [
    "# Variance w/ statistics library\n",
    "var_stat = statistics.variance(x)\n",
    "var_stat"
   ]
  },
  {
   "cell_type": "code",
   "execution_count": 67,
   "id": "63a234f1-f431-41d3-8a77-bb3c67ef26be",
   "metadata": {},
   "outputs": [
    {
     "data": {
      "text/plain": [
       "123.19999999999999"
      ]
     },
     "execution_count": 67,
     "metadata": {},
     "output_type": "execute_result"
    }
   ],
   "source": [
    "# Variance w/ numpy\n",
    "var_np = np.var(x,ddof=1)\n",
    "var_np"
   ]
  },
  {
   "cell_type": "code",
   "execution_count": 66,
   "id": "c71c6423-7001-438c-855a-c51c8c0eae6f",
   "metadata": {},
   "outputs": [
    {
     "data": {
      "text/plain": [
       "123.19999999999999"
      ]
     },
     "execution_count": 66,
     "metadata": {},
     "output_type": "execute_result"
    }
   ],
   "source": [
    "# Variance using Series function\n",
    "z = pd.Series(x)\n",
    "z.var()"
   ]
  },
  {
   "cell_type": "markdown",
   "id": "892d1fd8-a48c-4ffa-bbd1-9460070d4ad6",
   "metadata": {},
   "source": [
    "## Standar Deviasi"
   ]
  },
  {
   "cell_type": "code",
   "execution_count": 68,
   "id": "61f78ee3-ccae-466e-b639-3aaba6fc1c61",
   "metadata": {},
   "outputs": [],
   "source": [
    "x = [8, 1, 2.5, 4, 28]"
   ]
  },
  {
   "cell_type": "code",
   "execution_count": 69,
   "id": "5c94c244-cff2-45ab-bd21-f7c6d3a34b3b",
   "metadata": {},
   "outputs": [],
   "source": [
    "stdev = var_np**(1/2)"
   ]
  },
  {
   "cell_type": "code",
   "execution_count": 70,
   "id": "f57e1f69-734f-40e4-9bd5-7d23b2ce9f00",
   "metadata": {},
   "outputs": [
    {
     "data": {
      "text/plain": [
       "11.099549540409285"
      ]
     },
     "execution_count": 70,
     "metadata": {},
     "output_type": "execute_result"
    }
   ],
   "source": [
    "stdev"
   ]
  },
  {
   "cell_type": "code",
   "execution_count": 71,
   "id": "59ef396c-c093-4e36-9ff0-0a5ea5fb0484",
   "metadata": {},
   "outputs": [
    {
     "data": {
      "text/plain": [
       "11.099549540409285"
      ]
     },
     "execution_count": 71,
     "metadata": {},
     "output_type": "execute_result"
    }
   ],
   "source": [
    "stdev = np.sqrt(var_np) \n",
    "stdev"
   ]
  },
  {
   "cell_type": "code",
   "execution_count": 72,
   "id": "c0f45578-0984-40ea-9cbf-0c20306ba3e8",
   "metadata": {},
   "outputs": [
    {
     "data": {
      "text/plain": [
       "11.099549540409287"
      ]
     },
     "execution_count": 72,
     "metadata": {},
     "output_type": "execute_result"
    }
   ],
   "source": [
    "# stdev with statistics library\n",
    "stdev = statistics.stdev(x)\n",
    "stdev"
   ]
  },
  {
   "cell_type": "code",
   "execution_count": 73,
   "id": "c509beeb-ba7b-4983-b61f-433125d7cddc",
   "metadata": {},
   "outputs": [
    {
     "data": {
      "text/plain": [
       "11.099549540409285"
      ]
     },
     "execution_count": 73,
     "metadata": {},
     "output_type": "execute_result"
    }
   ],
   "source": [
    "stdev = np.std(x,ddof=1)\n",
    "stdev"
   ]
  },
  {
   "cell_type": "markdown",
   "id": "cb65cd1a-345a-4ead-b226-5da277a9a8c6",
   "metadata": {},
   "source": [
    "## Skewness"
   ]
  },
  {
   "cell_type": "code",
   "execution_count": 74,
   "id": "f52d11bf-0895-453f-b825-ce7f30bc47ce",
   "metadata": {},
   "outputs": [
    {
     "data": {
      "text/plain": [
       "[8, 1, 2.5, 4, 28]"
      ]
     },
     "execution_count": 74,
     "metadata": {},
     "output_type": "execute_result"
    }
   ],
   "source": [
    "x"
   ]
  },
  {
   "cell_type": "code",
   "execution_count": 75,
   "id": "0372f4c0-e75d-469e-bd84-3f8b03033eb9",
   "metadata": {},
   "outputs": [
    {
     "data": {
      "text/plain": [
       "1.947043227390592"
      ]
     },
     "execution_count": 75,
     "metadata": {},
     "output_type": "execute_result"
    }
   ],
   "source": [
    "n = len(x)\n",
    "mean = np.mean(x)\n",
    "stdev = statistics.stdev(x)\n",
    "skew_ = (sum((item - mean)**3 for item in x))*n / ((n-1)*(n-2)*(stdev**3))\n",
    "skew_"
   ]
  },
  {
   "cell_type": "code",
   "execution_count": 76,
   "id": "7fc6e784-a87e-4061-84e3-dfba974a65cd",
   "metadata": {},
   "outputs": [
    {
     "data": {
      "text/plain": [
       "1.9470432273905927"
      ]
     },
     "execution_count": 76,
     "metadata": {},
     "output_type": "execute_result"
    }
   ],
   "source": [
    "scipy.stats.skew(x,bias=False)"
   ]
  },
  {
   "cell_type": "code",
   "execution_count": 77,
   "id": "0d595685-d2fd-4b34-b492-494b8b4bf0b8",
   "metadata": {},
   "outputs": [
    {
     "data": {
      "text/plain": [
       "1.9470432273905924"
      ]
     },
     "execution_count": 77,
     "metadata": {},
     "output_type": "execute_result"
    }
   ],
   "source": [
    "z = pd.Series(x)\n",
    "z.skew()"
   ]
  },
  {
   "cell_type": "code",
   "execution_count": 78,
   "id": "2d211ff2-1067-45eb-b1f9-40acc96108e0",
   "metadata": {},
   "outputs": [
    {
     "data": {
      "text/plain": [
       "nan"
      ]
     },
     "execution_count": 78,
     "metadata": {},
     "output_type": "execute_result"
    }
   ],
   "source": [
    "scipy.stats.skew(x_with_nan)"
   ]
  },
  {
   "cell_type": "code",
   "execution_count": 79,
   "id": "838b7587-9c20-4001-8333-b2f80af3a9ff",
   "metadata": {},
   "outputs": [
    {
     "data": {
      "text/plain": [
       "1.9470432273905924"
      ]
     },
     "execution_count": 79,
     "metadata": {},
     "output_type": "execute_result"
    }
   ],
   "source": [
    "z_with_nan = pd.Series(x_with_nan)\n",
    "z_with_nan.skew()"
   ]
  },
  {
   "cell_type": "code",
   "execution_count": 80,
   "id": "9994dd12-cff7-44c2-94d1-177c911605d6",
   "metadata": {},
   "outputs": [
    {
     "data": {
      "text/plain": [
       "nan"
      ]
     },
     "execution_count": 80,
     "metadata": {},
     "output_type": "execute_result"
    }
   ],
   "source": [
    "scipy.stats.skew(z_with_nan)"
   ]
  },
  {
   "cell_type": "markdown",
   "id": "2117b4b0-d574-4545-b9da-1753575784aa",
   "metadata": {},
   "source": [
    "## Percentiles"
   ]
  },
  {
   "cell_type": "code",
   "execution_count": 81,
   "id": "ce8594a1-2840-407f-9681-5d08cd09c79d",
   "metadata": {},
   "outputs": [
    {
     "data": {
      "text/plain": [
       "-3.44"
      ]
     },
     "execution_count": 81,
     "metadata": {},
     "output_type": "execute_result"
    }
   ],
   "source": [
    "x = [-5,-1.1,0.1,2,8,12.8,21,25.8,41]\n",
    "np.percentile(x,5) #Percentile 5"
   ]
  },
  {
   "cell_type": "code",
   "execution_count": 82,
   "id": "b93a915d-a45c-4e49-8f43-97b4e05a103e",
   "metadata": {},
   "outputs": [
    {
     "data": {
      "text/plain": [
       "-5.0"
      ]
     },
     "execution_count": 82,
     "metadata": {},
     "output_type": "execute_result"
    }
   ],
   "source": [
    "np.percentile(x,0)"
   ]
  },
  {
   "cell_type": "code",
   "execution_count": 83,
   "id": "ef4fc48d-b801-47c6-ab4a-f3191d63522e",
   "metadata": {},
   "outputs": [
    {
     "data": {
      "text/plain": [
       "41.0"
      ]
     },
     "execution_count": 83,
     "metadata": {},
     "output_type": "execute_result"
    }
   ],
   "source": [
    "np.percentile(x,100)"
   ]
  },
  {
   "cell_type": "code",
   "execution_count": 84,
   "id": "78e9ae8d-1909-4280-a4f5-809444f680b6",
   "metadata": {},
   "outputs": [
    {
     "data": {
      "text/plain": [
       "28.840000000000003"
      ]
     },
     "execution_count": 84,
     "metadata": {},
     "output_type": "execute_result"
    }
   ],
   "source": [
    "np.percentile(x,90)"
   ]
  },
  {
   "cell_type": "code",
   "execution_count": 85,
   "id": "ee3d97ba-f386-41ef-844b-98d7fce6fd72",
   "metadata": {},
   "outputs": [
    {
     "data": {
      "text/plain": [
       "[8.0]"
      ]
     },
     "execution_count": 85,
     "metadata": {},
     "output_type": "execute_result"
    }
   ],
   "source": [
    "statistics.quantiles(x,n=2)"
   ]
  },
  {
   "cell_type": "code",
   "execution_count": 86,
   "id": "ed69f99e-f307-4348-aca9-d778c1bc5055",
   "metadata": {},
   "outputs": [
    {
     "data": {
      "text/plain": [
       "[-0.5, 8.0, 23.4]"
      ]
     },
     "execution_count": 86,
     "metadata": {},
     "output_type": "execute_result"
    }
   ],
   "source": [
    "statistics.quantiles(x,n=4)"
   ]
  },
  {
   "cell_type": "code",
   "execution_count": 87,
   "id": "9ce21a08-c62a-48c1-868c-816574cbda89",
   "metadata": {},
   "outputs": [
    {
     "data": {
      "text/plain": [
       "[0.1, 8.0, 21.0]"
      ]
     },
     "execution_count": 87,
     "metadata": {},
     "output_type": "execute_result"
    }
   ],
   "source": [
    "statistics.quantiles(x,n=4,method='inclusive')"
   ]
  },
  {
   "cell_type": "code",
   "execution_count": 88,
   "id": "879efe42-7eef-4f41-8d4e-00a569c983d5",
   "metadata": {},
   "outputs": [
    {
     "data": {
      "text/plain": [
       "[-5, -1.1, 0.1, 2, 8, 12.8, 21, 25.8, 41]"
      ]
     },
     "execution_count": 88,
     "metadata": {},
     "output_type": "execute_result"
    }
   ],
   "source": [
    "x"
   ]
  },
  {
   "cell_type": "code",
   "execution_count": 89,
   "id": "76dcb55a-d3f0-41c3-91cd-58e76af18a25",
   "metadata": {},
   "outputs": [
    {
     "data": {
      "text/plain": [
       "-5.0"
      ]
     },
     "execution_count": 89,
     "metadata": {},
     "output_type": "execute_result"
    }
   ],
   "source": [
    "np.quantile(x,0)"
   ]
  },
  {
   "cell_type": "code",
   "execution_count": 90,
   "id": "26de8eb8-0744-4ca0-930a-f8f471785135",
   "metadata": {},
   "outputs": [
    {
     "data": {
      "text/plain": [
       "41.0"
      ]
     },
     "execution_count": 90,
     "metadata": {},
     "output_type": "execute_result"
    }
   ],
   "source": [
    "np.quantile(x,1)"
   ]
  },
  {
   "cell_type": "code",
   "execution_count": 91,
   "id": "51bbed66-0f62-4953-8e09-efeba0bc2ecb",
   "metadata": {},
   "outputs": [
    {
     "data": {
      "text/plain": [
       "8.0"
      ]
     },
     "execution_count": 91,
     "metadata": {},
     "output_type": "execute_result"
    }
   ],
   "source": [
    "np.quantile(x,0.5)"
   ]
  },
  {
   "cell_type": "code",
   "execution_count": 92,
   "id": "a531d300-c09c-461e-a7a8-712d2d4442e3",
   "metadata": {},
   "outputs": [
    {
     "data": {
      "text/plain": [
       "[-5, -1.1, 0.1, 2, 8, 12.8, 21, 25.8, 41]"
      ]
     },
     "execution_count": 92,
     "metadata": {},
     "output_type": "execute_result"
    }
   ],
   "source": [
    "x"
   ]
  },
  {
   "cell_type": "code",
   "execution_count": 93,
   "id": "22e0fa0c-4ac1-4700-945f-73bb444ba48e",
   "metadata": {},
   "outputs": [
    {
     "data": {
      "text/plain": [
       "[-5, -1.1, nan, 0.1, 2, 8, 12.8, 21, 25.8, 41]"
      ]
     },
     "execution_count": 93,
     "metadata": {},
     "output_type": "execute_result"
    }
   ],
   "source": [
    "x_with_nan = [-5, -1.1,np.nan, 0.1, 2, 8, 12.8, 21, 25.8, 41]\n",
    "x_with_nan"
   ]
  },
  {
   "cell_type": "code",
   "execution_count": 94,
   "id": "730dbbfe-07d0-4619-a162-d6eab5d08379",
   "metadata": {},
   "outputs": [
    {
     "data": {
      "text/plain": [
       "nan"
      ]
     },
     "execution_count": 94,
     "metadata": {},
     "output_type": "execute_result"
    }
   ],
   "source": [
    "np.quantile(x_with_nan,0)"
   ]
  },
  {
   "cell_type": "code",
   "execution_count": 95,
   "id": "674418ad-b59a-45de-be9d-f59a8710b576",
   "metadata": {},
   "outputs": [
    {
     "data": {
      "text/plain": [
       "8.0"
      ]
     },
     "execution_count": 95,
     "metadata": {},
     "output_type": "execute_result"
    }
   ],
   "source": [
    "np.nanquantile(x_with_nan,0.5)"
   ]
  },
  {
   "cell_type": "code",
   "execution_count": 96,
   "id": "c2d50d0c-3843-429c-a1a5-ecd488a5cb45",
   "metadata": {},
   "outputs": [
    {
     "data": {
      "text/plain": [
       "[-5, -1.1, 0.1, 2, 8, 12.8, 21, 25.8, 41]"
      ]
     },
     "execution_count": 96,
     "metadata": {},
     "output_type": "execute_result"
    }
   ],
   "source": [
    "x"
   ]
  },
  {
   "cell_type": "code",
   "execution_count": 97,
   "id": "c71c0331-ee35-4e55-8f00-661b6f51804b",
   "metadata": {},
   "outputs": [
    {
     "data": {
      "text/plain": [
       "array([ 0.1,  8. , 21. ])"
      ]
     },
     "execution_count": 97,
     "metadata": {},
     "output_type": "execute_result"
    }
   ],
   "source": [
    "np.quantile(x,[0.25,0.5,0.75])"
   ]
  },
  {
   "cell_type": "code",
   "execution_count": 98,
   "id": "933b77e1-2abf-4f94-b8bf-85ad88b34acd",
   "metadata": {},
   "outputs": [
    {
     "data": {
      "text/plain": [
       "[0.1, 8.0, 21.0]"
      ]
     },
     "execution_count": 98,
     "metadata": {},
     "output_type": "execute_result"
    }
   ],
   "source": [
    "statistics.quantiles(x,n=4,method='inclusive')"
   ]
  },
  {
   "cell_type": "code",
   "execution_count": 99,
   "id": "829388a9-6b8f-4cfb-863c-d5fc768350b6",
   "metadata": {},
   "outputs": [
    {
     "data": {
      "text/plain": [
       "array([ 0.1,  8. , 21. ])"
      ]
     },
     "execution_count": 99,
     "metadata": {},
     "output_type": "execute_result"
    }
   ],
   "source": [
    "np.percentile(x,[25,50,75])"
   ]
  },
  {
   "cell_type": "markdown",
   "id": "2ad23316-0ee2-43c3-a564-ca4fda066942",
   "metadata": {},
   "source": [
    "## Ranges (Nilai Max - Nilai Min)"
   ]
  },
  {
   "cell_type": "code",
   "execution_count": 100,
   "id": "044aa2e3-3cf7-465f-99e5-de58ba312f83",
   "metadata": {},
   "outputs": [
    {
     "data": {
      "text/plain": [
       "[-5, -1.1, 0.1, 2, 8, 12.8, 21, 25.8, 41]"
      ]
     },
     "execution_count": 100,
     "metadata": {},
     "output_type": "execute_result"
    }
   ],
   "source": [
    "x # Ranges  = 41 - (-5) = 46"
   ]
  },
  {
   "cell_type": "code",
   "execution_count": 101,
   "id": "1364879b-e9c1-491a-a4f5-97474d066962",
   "metadata": {},
   "outputs": [
    {
     "data": {
      "text/plain": [
       "46.0"
      ]
     },
     "execution_count": 101,
     "metadata": {},
     "output_type": "execute_result"
    }
   ],
   "source": [
    "# np.ptp untuk menghitung range\n",
    "np.ptp(x)"
   ]
  },
  {
   "cell_type": "code",
   "execution_count": 102,
   "id": "d77815b7-85c4-473b-a26e-a7707c5f91b5",
   "metadata": {},
   "outputs": [
    {
     "data": {
      "text/plain": [
       "41.0"
      ]
     },
     "execution_count": 102,
     "metadata": {},
     "output_type": "execute_result"
    }
   ],
   "source": [
    "np.amax(x)"
   ]
  },
  {
   "cell_type": "code",
   "execution_count": 103,
   "id": "0b37f697-7d13-4f90-a993-40d0af8b5824",
   "metadata": {},
   "outputs": [
    {
     "data": {
      "text/plain": [
       "-5.0"
      ]
     },
     "execution_count": 103,
     "metadata": {},
     "output_type": "execute_result"
    }
   ],
   "source": [
    "np.amin(x)"
   ]
  },
  {
   "cell_type": "code",
   "execution_count": 104,
   "id": "2d88d52e-2ceb-4505-93eb-0b66fd6b9347",
   "metadata": {},
   "outputs": [
    {
     "data": {
      "text/plain": [
       "46.0"
      ]
     },
     "execution_count": 104,
     "metadata": {},
     "output_type": "execute_result"
    }
   ],
   "source": [
    "np.amax(x) - np.amin(x)"
   ]
  },
  {
   "cell_type": "code",
   "execution_count": 105,
   "id": "4abe9bdf-28d5-434e-a956-5613042c31c0",
   "metadata": {},
   "outputs": [
    {
     "data": {
      "text/plain": [
       "[-5, -1.1, 0.1, 2, 8, 12.8, 21, 25.8, 41]"
      ]
     },
     "execution_count": 105,
     "metadata": {},
     "output_type": "execute_result"
    }
   ],
   "source": [
    "x"
   ]
  },
  {
   "cell_type": "code",
   "execution_count": 106,
   "id": "2ac7163a-d979-4971-8a4e-dfdb92f4942e",
   "metadata": {},
   "outputs": [
    {
     "data": {
      "text/plain": [
       "20.9"
      ]
     },
     "execution_count": 106,
     "metadata": {},
     "output_type": "execute_result"
    }
   ],
   "source": [
    "quartiles = np.quantile(x,[0.25,0.75])\n",
    "IQR = quartiles[1] - quartiles[0]\n",
    "IQR"
   ]
  },
  {
   "cell_type": "markdown",
   "id": "e810a342-2c0a-4835-b563-2686ed01144b",
   "metadata": {},
   "source": [
    "## Summary of Desc Stats"
   ]
  },
  {
   "cell_type": "code",
   "execution_count": 107,
   "id": "287d8fb0-b8c8-4144-a90c-6b87618149c3",
   "metadata": {},
   "outputs": [
    {
     "data": {
      "text/plain": [
       "[-5, -1.1, 0.1, 2, 8, 12.8, 21, 25.8, 41]"
      ]
     },
     "execution_count": 107,
     "metadata": {},
     "output_type": "execute_result"
    }
   ],
   "source": [
    "x"
   ]
  },
  {
   "cell_type": "code",
   "execution_count": 108,
   "id": "318b7aa3-625c-4eaf-a454-f3093e3c4c4b",
   "metadata": {},
   "outputs": [
    {
     "data": {
      "text/plain": [
       "DescribeResult(nobs=9, minmax=(-5.0, 41.0), mean=11.622222222222222, variance=228.75194444444446, skewness=0.9249043136685094, kurtosis=0.14770623629658886)"
      ]
     },
     "execution_count": 108,
     "metadata": {},
     "output_type": "execute_result"
    }
   ],
   "source": [
    "result = scipy.stats.describe(x,ddof=1,bias=False)\n",
    "result"
   ]
  },
  {
   "cell_type": "code",
   "execution_count": 109,
   "id": "aad306f9-a5e1-47fc-8242-5b0fe3a08e3c",
   "metadata": {},
   "outputs": [
    {
     "data": {
      "text/plain": [
       "15.12454774346805"
      ]
     },
     "execution_count": 109,
     "metadata": {},
     "output_type": "execute_result"
    }
   ],
   "source": [
    "(result.variance)**(1/2)"
   ]
  },
  {
   "cell_type": "code",
   "execution_count": 110,
   "id": "2fdd7ca0-05c8-4cad-8f40-935d6c0b7671",
   "metadata": {},
   "outputs": [
    {
     "data": {
      "text/plain": [
       "46.0"
      ]
     },
     "execution_count": 110,
     "metadata": {},
     "output_type": "execute_result"
    }
   ],
   "source": [
    "result.minmax[1]-result.minmax[0]"
   ]
  },
  {
   "cell_type": "code",
   "execution_count": 111,
   "id": "84cb5e8f-2df9-4259-a22f-270b70aba0bc",
   "metadata": {},
   "outputs": [
    {
     "data": {
      "text/plain": [
       "0.9249043136685094"
      ]
     },
     "execution_count": 111,
     "metadata": {},
     "output_type": "execute_result"
    }
   ],
   "source": [
    "result.skewness"
   ]
  },
  {
   "cell_type": "code",
   "execution_count": 112,
   "id": "0420bcbb-5344-4ba8-a934-5ee156e906a4",
   "metadata": {},
   "outputs": [
    {
     "data": {
      "text/plain": [
       "0    -5.0\n",
       "1    -1.1\n",
       "2     0.1\n",
       "3     2.0\n",
       "4     8.0\n",
       "5    12.8\n",
       "6    21.0\n",
       "7    25.8\n",
       "8    41.0\n",
       "dtype: float64"
      ]
     },
     "execution_count": 112,
     "metadata": {},
     "output_type": "execute_result"
    }
   ],
   "source": [
    "z = pd.Series(x)\n",
    "z"
   ]
  },
  {
   "cell_type": "code",
   "execution_count": 113,
   "id": "a026a79e-05d3-4bfd-bcd1-c7cb6fd80003",
   "metadata": {},
   "outputs": [
    {
     "data": {
      "text/plain": [
       "count     9.000000\n",
       "mean     11.622222\n",
       "std      15.124548\n",
       "min      -5.000000\n",
       "25%       0.100000\n",
       "50%       8.000000\n",
       "75%      21.000000\n",
       "max      41.000000\n",
       "dtype: float64"
      ]
     },
     "execution_count": 113,
     "metadata": {},
     "output_type": "execute_result"
    }
   ],
   "source": [
    "z.describe()"
   ]
  },
  {
   "cell_type": "markdown",
   "id": "ac4b8f3e-194b-4308-bf9e-81f766374658",
   "metadata": {},
   "source": [
    "## Correlation"
   ]
  },
  {
   "cell_type": "code",
   "execution_count": 114,
   "id": "6aa992f0-cc8b-46cb-9fde-37bef30276c9",
   "metadata": {},
   "outputs": [],
   "source": [
    "x = list(range(-10,11))\n",
    "y = [0 , 2, 2, 2, 2, 3, 3, 6, 7, 4, 7, 6, 6, 9, 4, 5, 5, 10, 11, 12, 14]\n",
    "x_ar, y_ar = np.array(x),np.array(y)\n",
    "x_s,y_s = pd.Series(x),pd.Series(y)"
   ]
  },
  {
   "cell_type": "code",
   "execution_count": 115,
   "id": "c0a2e440-bca0-4e36-a509-a5f49304e375",
   "metadata": {},
   "outputs": [
    {
     "data": {
      "text/plain": [
       "True"
      ]
     },
     "execution_count": 115,
     "metadata": {},
     "output_type": "execute_result"
    }
   ],
   "source": [
    "len(x)==len(y)"
   ]
  },
  {
   "cell_type": "markdown",
   "id": "d390e228-448a-46c1-b855-31efa0303363",
   "metadata": {},
   "source": [
    "## Covariance"
   ]
  },
  {
   "cell_type": "code",
   "execution_count": 116,
   "id": "aa9d8da1-b6de-4d5f-86ea-f020e5a6c247",
   "metadata": {},
   "outputs": [
    {
     "data": {
      "text/plain": [
       "19.95"
      ]
     },
     "execution_count": 116,
     "metadata": {},
     "output_type": "execute_result"
    }
   ],
   "source": [
    "n = len(x)\n",
    "mean_x = np.mean(x)\n",
    "mean_y = np.mean(y)\n",
    "\n",
    "cov_xy = (sum((x[item]-mean_x)*(y[item]-mean_y) for item in range(n)))/(n-1)\n",
    "cov_xy"
   ]
  },
  {
   "cell_type": "code",
   "execution_count": 117,
   "id": "d6dea479-a64b-4adf-aaf0-312550bcc87a",
   "metadata": {},
   "outputs": [
    {
     "data": {
      "text/plain": [
       "array([[38.5       , 19.95      ],\n",
       "       [19.95      , 13.91428571]])"
      ]
     },
     "execution_count": 117,
     "metadata": {},
     "output_type": "execute_result"
    }
   ],
   "source": [
    "cov_matrix = np.cov(x,y)\n",
    "cov_matrix"
   ]
  },
  {
   "cell_type": "code",
   "execution_count": 118,
   "id": "8cd4093f-ef89-46ea-819c-70e08574c319",
   "metadata": {},
   "outputs": [
    {
     "data": {
      "text/plain": [
       "38.5"
      ]
     },
     "execution_count": 118,
     "metadata": {},
     "output_type": "execute_result"
    }
   ],
   "source": [
    "np.var(x,ddof=1)"
   ]
  },
  {
   "cell_type": "code",
   "execution_count": 119,
   "id": "d390b0a6-8e67-4db6-917e-392b42e5d274",
   "metadata": {},
   "outputs": [
    {
     "data": {
      "text/plain": [
       "13.914285714285711"
      ]
     },
     "execution_count": 119,
     "metadata": {},
     "output_type": "execute_result"
    }
   ],
   "source": [
    "np.var(y,ddof=1)"
   ]
  },
  {
   "cell_type": "code",
   "execution_count": 120,
   "id": "90c7c0f7-26fd-4afd-9c4a-0128cf742e73",
   "metadata": {},
   "outputs": [
    {
     "data": {
      "text/plain": [
       "19.95"
      ]
     },
     "execution_count": 120,
     "metadata": {},
     "output_type": "execute_result"
    }
   ],
   "source": [
    "cov_xy = cov_matrix[0,1]\n",
    "cov_xy"
   ]
  },
  {
   "cell_type": "code",
   "execution_count": 121,
   "id": "4c1ab23a-12b7-465a-a2de-2b7e19c3d441",
   "metadata": {},
   "outputs": [
    {
     "data": {
      "text/plain": [
       "19.95"
      ]
     },
     "execution_count": 121,
     "metadata": {},
     "output_type": "execute_result"
    }
   ],
   "source": [
    "cov_xy = cov_matrix[1,0]\n",
    "cov_xy"
   ]
  },
  {
   "cell_type": "markdown",
   "id": "baf589cb-b830-4f9e-b99d-4f7dc0ad1ec9",
   "metadata": {},
   "source": [
    "## Correlation Coefficient"
   ]
  },
  {
   "cell_type": "code",
   "execution_count": 122,
   "id": "736a080b-e4cc-4586-a708-2a31a03a8c86",
   "metadata": {},
   "outputs": [
    {
     "data": {
      "text/plain": [
       "0.861950005631606"
      ]
     },
     "execution_count": 122,
     "metadata": {},
     "output_type": "execute_result"
    }
   ],
   "source": [
    "var_x = np.var(x,ddof=1)\n",
    "var_y = np.var(y,ddof=1)\n",
    "cov_xy\n",
    "std_x = var_x**(1/2)\n",
    "std_y = var_y**(1/2)\n",
    "r = cov_xy / (std_x*std_y)\n",
    "r"
   ]
  },
  {
   "cell_type": "markdown",
   "id": "fdfc399d-e7e3-4283-97d2-de8da4242089",
   "metadata": {},
   "source": [
    "r  = 1 / r= -1 atau mendekati merupakan tanda kedua variabel mengalami multicollinearity"
   ]
  },
  {
   "cell_type": "markdown",
   "id": "7e596b2e-05ed-40a7-b77e-461fd1c78e07",
   "metadata": {},
   "source": [
    "sehingga Korelasi sangat kuat karena sangat mendekati 1"
   ]
  },
  {
   "cell_type": "code",
   "execution_count": 123,
   "id": "8c4acae9-26a0-4128-8cd5-c9001adb4af9",
   "metadata": {},
   "outputs": [
    {
     "data": {
      "text/plain": [
       "0.8619500056316061"
      ]
     },
     "execution_count": 123,
     "metadata": {},
     "output_type": "execute_result"
    }
   ],
   "source": [
    "r , p = scipy.stats.pearsonr(x,y)\n",
    "r"
   ]
  },
  {
   "cell_type": "code",
   "execution_count": 124,
   "id": "647d8634-4c42-454b-84a4-572280a01242",
   "metadata": {},
   "outputs": [
    {
     "data": {
      "text/plain": [
       "5.122760847201135e-07"
      ]
     },
     "execution_count": 124,
     "metadata": {},
     "output_type": "execute_result"
    }
   ],
   "source": [
    "p"
   ]
  },
  {
   "cell_type": "code",
   "execution_count": null,
   "id": "4075dbc9-35ad-490e-bfda-cbccd1ea5c8b",
   "metadata": {},
   "outputs": [],
   "source": []
  }
 ],
 "metadata": {
  "kernelspec": {
   "display_name": "Python 3 (ipykernel)",
   "language": "python",
   "name": "python3"
  },
  "language_info": {
   "codemirror_mode": {
    "name": "ipython",
    "version": 3
   },
   "file_extension": ".py",
   "mimetype": "text/x-python",
   "name": "python",
   "nbconvert_exporter": "python",
   "pygments_lexer": "ipython3",
   "version": "3.9.13"
  }
 },
 "nbformat": 4,
 "nbformat_minor": 5
}
